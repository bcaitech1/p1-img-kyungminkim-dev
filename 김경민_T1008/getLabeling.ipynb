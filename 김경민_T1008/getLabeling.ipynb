{
 "cells": [
  {
   "cell_type": "code",
   "execution_count": 15,
   "id": "charitable-missile",
   "metadata": {},
   "outputs": [],
   "source": [
    "import os\n",
    "import pandas as pd\n",
    "from glob import glob\n",
    "import numpy as np\n",
    "import torch"
   ]
  },
  {
   "cell_type": "code",
   "execution_count": 16,
   "id": "opened-hello",
   "metadata": {},
   "outputs": [],
   "source": [
    "train_dir = '/opt/ml/input/data/train'"
   ]
  },
  {
   "cell_type": "code",
   "execution_count": 17,
   "id": "narrow-shark",
   "metadata": {},
   "outputs": [],
   "source": [
    "train = pd.read_csv(os.path.join(train_dir, 'train.csv'))\n",
    "train_img_dir = os.path.join(train_dir, 'images')\n",
    "train_image_path = [os.path.join(train_img_dir, img_id) for img_id in train.path]"
   ]
  },
  {
   "cell_type": "code",
   "execution_count": 18,
   "id": "internal-newport",
   "metadata": {},
   "outputs": [],
   "source": [
    "all_train_data = []\n",
    "for i in range(len(train_image_path)):\n",
    "    all_train_data.extend(glob(os.path.join(train_image_path[i], '*.*')))"
   ]
  },
  {
   "cell_type": "code",
   "execution_count": 19,
   "id": "excess-sydney",
   "metadata": {},
   "outputs": [],
   "source": [
    "def labeling(path):\n",
    "    temp = path.split('/')\n",
    "    gender = temp[-2].split('_')[1]\n",
    "    age = int(temp[-2].split('_')[3])\n",
    "    mask = temp[-1].split('.')[0]\n",
    "\n",
    "    if gender == 'male':\n",
    "        if age < 30:\n",
    "            if mask == 'normal':\n",
    "                return 12\n",
    "            elif mask == 'incorrect_mask':\n",
    "                return 6\n",
    "            else:\n",
    "                return 0\n",
    "            \n",
    "        elif age >= 30 and age < 60:\n",
    "            if mask == 'normal':\n",
    "                return 13\n",
    "            elif mask == 'incorrect_mask':\n",
    "                return 7\n",
    "            else:\n",
    "                return 1\n",
    "        else:\n",
    "            if mask == 'normal':\n",
    "                return 14\n",
    "            elif mask == 'incorrect_mask':\n",
    "                return 8\n",
    "            else:\n",
    "                return 2\n",
    "            \n",
    "    else:\n",
    "        if age < 30:\n",
    "            if mask == 'normal':\n",
    "                return 15\n",
    "            elif mask == 'incorrect_mask':\n",
    "                return 9\n",
    "            else:\n",
    "                return 3\n",
    "        \n",
    "        elif age >= 30 and age < 60:\n",
    "            if mask == 'normal':\n",
    "                return 16\n",
    "            elif mask == 'incorrect_mask':\n",
    "                return 10\n",
    "            else:\n",
    "                return 4\n",
    "        else:\n",
    "            if mask == 'normal':\n",
    "                return 17\n",
    "            elif mask == 'incorrect_mask':\n",
    "                return 11\n",
    "            else:\n",
    "                return 5"
   ]
  },
  {
   "cell_type": "code",
   "execution_count": 20,
   "id": "fossil-provision",
   "metadata": {},
   "outputs": [],
   "source": [
    "#라벨 리스트 만들기\n",
    "label = []\n",
    "for x in all_train_data:\n",
    "    label.append(labeling(x))\n",
    "    \n",
    "label = np.array(label)\n",
    "label = torch.LongTensor(label)"
   ]
  },
  {
   "cell_type": "code",
   "execution_count": null,
   "id": "special-glance",
   "metadata": {},
   "outputs": [],
   "source": []
  }
 ],
 "metadata": {
  "kernelspec": {
   "display_name": "Python 3",
   "language": "python",
   "name": "python3"
  },
  "language_info": {
   "codemirror_mode": {
    "name": "ipython",
    "version": 3
   },
   "file_extension": ".py",
   "mimetype": "text/x-python",
   "name": "python",
   "nbconvert_exporter": "python",
   "pygments_lexer": "ipython3",
   "version": "3.7.7"
  }
 },
 "nbformat": 4,
 "nbformat_minor": 5
}
