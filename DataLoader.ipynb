{
 "cells": [
  {
   "cell_type": "code",
   "execution_count": 11,
   "id": "affiliated-dispatch",
   "metadata": {},
   "outputs": [],
   "source": [
    "from torch.utils.data import Dataset, DataLoader\n",
    "from torchvision import transforms, models\n",
    "from torchvision.transforms import Resize, ToTensor, Normalize\n",
    "from PIL import Image\n",
    "import numpy as np\n",
    "import torch\n",
    "import matplotlib.pyplot as plt\n",
    "\n",
    "\n",
    "\n",
    "import import_ipynb\n",
    "from getLabeling import label, all_train_data\n",
    "\n",
    "\n",
    "from albumentations import *\n",
    "from albumentations.pytorch import ToTensorV2"
   ]
  },
  {
   "cell_type": "code",
   "execution_count": 12,
   "id": "liked-circumstances",
   "metadata": {},
   "outputs": [],
   "source": [
    "class TrainDataset(Dataset):\n",
    "    def __init__(self, img_paths, transform, label):\n",
    "        self.img_paths = img_paths\n",
    "        self.transform = transform\n",
    "        self.label = label\n",
    "        \n",
    "        \n",
    "    def set_transform(self, transform):\n",
    "        \"\"\"\n",
    "        transform 함수를 설정하는 함수입니다.\n",
    "        \"\"\"\n",
    "        self.transform = transform\n",
    "    \n",
    "    \n",
    "    def __getitem__(self, index):\n",
    "        image = Image.open(self.img_paths[index])\n",
    "        \n",
    "        if self.transform:\n",
    "            image_transform = self.transform(image=np.array(image))['image']\n",
    "            \n",
    "        y = np.zeros(18)    \n",
    "        y[int(self.label[index])] = 1\n",
    "        return image_transform, torch.LongTensor(y)\n",
    "\n",
    "    def __len__(self):\n",
    "        return len(self.img_paths)"
   ]
  },
  {
   "cell_type": "code",
   "execution_count": 13,
   "id": "distinct-reward",
   "metadata": {},
   "outputs": [],
   "source": [
    "# train_transform = transforms.Compose([\n",
    "#     #transforms.RandomCrop(32, padding=4),\n",
    "#     #transforms.RandomHorizontalFlip(),\n",
    "#     Resize((224, 224), Image.BILINEAR),\n",
    "#     ToTensor(),\n",
    "#     Normalize(mean = (0.485, 0.456, 0.406), std = (0.229, 0.224, 0.225))\n",
    "# ])\n",
    "\n",
    "# train_dataset = TrainDataset(all_train_data, train_transform, label)\n",
    "# dataset = DataLoader(train_dataset, batch_size = 16, shuffle = True, num_workers = 12)  # shuffle을 True로 하니까 loss값이 줄어듦\n"
   ]
  },
  {
   "cell_type": "code",
   "execution_count": 14,
   "id": "mediterranean-apparatus",
   "metadata": {},
   "outputs": [],
   "source": [
    "# n_val = int(len(dataset) * 0.3)\n",
    "# n_train = len(dataset) - n_val\n",
    "# train_dataset, val_dataset = torch.utils.data.random_split(dataset, [n_train, n_val])"
   ]
  },
  {
   "cell_type": "code",
   "execution_count": 15,
   "id": "norwegian-profit",
   "metadata": {},
   "outputs": [],
   "source": [
    "# loader_train = DataLoader(\n",
    "#     train_dataset,\n",
    "#     batch_size = 16,\n",
    "#     num_workers = 12,\n",
    "#     shuffle = True\n",
    "# )\n",
    "\n",
    "# loader_val = DataLoader(\n",
    "#     val_dataset,\n",
    "#     batch_size = 16,\n",
    "#     num_workers = 12,\n",
    "#     shuffle = False\n",
    "# )"
   ]
  },
  {
   "cell_type": "code",
   "execution_count": 16,
   "id": "incorporate-drunk",
   "metadata": {},
   "outputs": [],
   "source": [
    "def get_transform(need=('train', 'val'), img_size = (224, 224), mean = (0.485, 0.456, 0.406), std = (0.229, 0.224, 0.225)):\n",
    "    \n",
    "    transformations = {}\n",
    "    if 'train' in need:\n",
    "        transformations['train'] = Compose([\n",
    "            Resize(img_size[0], img_size[1], p=1.0),\n",
    "            HorizontalFlip(p=0.5),\n",
    "            ShiftScaleRotate(p=0.5),\n",
    "            #HueSaturationValue(hue_shift_limit=0.2, sat_shift_limit=0.2, val_shift_limit=0.2, p=0.5),\n",
    "            #RandomBrightnessContrast(brightness_limit=(-0.1, 0.1), contrast_limit=(-0.1, 0.1), p=0.5),\n",
    "            GaussNoise(p=0.5),\n",
    "            Normalize(mean=mean, std=std, max_pixel_value=255.0, p=1.0),\n",
    "            ToTensorV2(p=1.0),\n",
    "        ], p=1.0)\n",
    "    if 'val' in need:\n",
    "        transformations['val'] = Compose([\n",
    "            Resize(img_size[0], img_size[1]),\n",
    "            Normalize(mean=mean, std=std, max_pixel_value=255.0, p=1.0),\n",
    "            ToTensorV2(p=1.0),\n",
    "        ], p=1.0)\n",
    "    return transformations"
   ]
  },
  {
   "cell_type": "code",
   "execution_count": 17,
   "id": "comic-frontier",
   "metadata": {},
   "outputs": [],
   "source": [
    "transform = get_transform()\n",
    "dataset =  TrainDataset(all_train_data, transform, label)"
   ]
  },
  {
   "cell_type": "code",
   "execution_count": 18,
   "id": "extreme-evanescence",
   "metadata": {},
   "outputs": [],
   "source": [
    "n_val = int(len(dataset) * 0.3)\n",
    "n_train = len(dataset) - n_val\n",
    "train_dataset, val_dataset = torch.utils.data.random_split(dataset, [n_train, n_val])"
   ]
  },
  {
   "cell_type": "code",
   "execution_count": 19,
   "id": "certified-waterproof",
   "metadata": {},
   "outputs": [],
   "source": [
    "train_dataset.dataset.set_transform(transform['train'])\n",
    "val_dataset.dataset.set_transform(transform['val'])"
   ]
  },
  {
   "cell_type": "code",
   "execution_count": 20,
   "id": "velvet-probability",
   "metadata": {},
   "outputs": [],
   "source": [
    "loader_train = DataLoader(\n",
    "    train_dataset,\n",
    "    batch_size = 4,\n",
    "    num_workers = 4,\n",
    "    shuffle = True\n",
    ")\n",
    "\n",
    "loader_val = DataLoader(\n",
    "    val_dataset,\n",
    "    batch_size = 4,\n",
    "    num_workers = 4,\n",
    "    shuffle = False\n",
    ")"
   ]
  },
  {
   "cell_type": "code",
   "execution_count": null,
   "id": "european-dodge",
   "metadata": {},
   "outputs": [],
   "source": []
  }
 ],
 "metadata": {
  "kernelspec": {
   "display_name": "Python 3",
   "language": "python",
   "name": "python3"
  },
  "language_info": {
   "codemirror_mode": {
    "name": "ipython",
    "version": 3
   },
   "file_extension": ".py",
   "mimetype": "text/x-python",
   "name": "python",
   "nbconvert_exporter": "python",
   "pygments_lexer": "ipython3",
   "version": "3.7.7"
  }
 },
 "nbformat": 4,
 "nbformat_minor": 5
}
